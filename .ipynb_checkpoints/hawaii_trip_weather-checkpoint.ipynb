{
 "cells": [
  {
   "cell_type": "code",
   "execution_count": 1,
   "metadata": {},
   "outputs": [],
   "source": [
    "#Import libraries\n",
    "import sqlalchemy\n",
    "from sqlalchemy.ext.automap import automap_base\n",
    "from sqlalchemy.orm import Session\n",
    "from sqlalchemy import create_engine, func, inspect, desc, Date, cast\n",
    "\n",
    "import numpy as np\n",
    "import pandas as pd\n",
    "from matplotlib import style\n",
    "import matplotlib.pyplot as plt\n",
    "\n",
    "from datetime import datetime\n",
    "from datetime import date, timedelta\n",
    "from dateutil.relativedelta import relativedelta"
   ]
  },
  {
   "cell_type": "code",
   "execution_count": 2,
   "metadata": {},
   "outputs": [
    {
     "name": "stdout",
     "output_type": "stream",
     "text": [
      "Tables in database are ['measurement', 'station']]\n",
      "\n"
     ]
    }
   ],
   "source": [
    "# initialize sqlalchemy engine with hawaii database in Resources directory\n",
    "engine = create_engine(\"sqlite:///Resources/hawaii.sqlite\")\n",
    "\n",
    "# reflect an existing database into a new model\n",
    "Base = automap_base()\n",
    "# reflect the tables\n",
    "Base.prepare(engine, reflect=True)\n",
    "print(f\"Tables in database are {Base.classes.keys()}]\\n\")"
   ]
  },
  {
   "cell_type": "code",
   "execution_count": 3,
   "metadata": {},
   "outputs": [],
   "source": [
    "# Save references to each table\n",
    "Measurement = Base.classes.measurement\n",
    "Station = Base.classes.station"
   ]
  },
  {
   "cell_type": "code",
   "execution_count": 4,
   "metadata": {},
   "outputs": [
    {
     "name": "stdout",
     "output_type": "stream",
     "text": [
      "Table 'measurement' has below columns:\n",
      "('id', INTEGER())\n",
      "('station', TEXT())\n",
      "('date', TEXT())\n",
      "('prcp', FLOAT())\n",
      "('tobs', FLOAT())\n",
      "\n",
      "Table 'station' has below columns:\n",
      "('id', INTEGER())\n",
      "('station', TEXT())\n",
      "('name', TEXT())\n",
      "('latitude', FLOAT())\n",
      "('longitude', FLOAT())\n",
      "('elevation', FLOAT())\n"
     ]
    }
   ],
   "source": [
    "# Check table names and columns therein with inspect\n",
    "inspector= inspect(engine) # returns table names\n",
    "\n",
    "\n",
    "columns = inspector.get_columns('measurement')\n",
    "print(f\"Table 'measurement' has below columns:\")\n",
    "for column in columns:\n",
    "    print(f\"{column['name'], column['type']}\")\n",
    "\n",
    "columns = inspector.get_columns('station')\n",
    "print(f\"\\nTable 'station' has below columns:\")\n",
    "for column in columns:\n",
    "    print(f\"{column['name'], column['type']}\")\n"
   ]
  },
  {
   "cell_type": "code",
   "execution_count": 5,
   "metadata": {},
   "outputs": [
    {
     "name": "stdout",
     "output_type": "stream",
     "text": [
      "Weather stations in this database are \n",
      " ['USC00519397', 'USC00513117', 'USC00514830', 'USC00517948', 'USC00518838', 'USC00519523', 'USC00519281', 'USC00511918', 'USC00516128']\n",
      "\n"
     ]
    }
   ],
   "source": [
    "# Create our session (link) from Python to the DB\n",
    "session = Session(engine)\n",
    "\n",
    "stations = session.query(Station.station).all() # will output tuples\n",
    "station_list = [stations[i][0] for i in range (len(stations))]\n",
    "print(f\"Weather stations in this database are \\n {station_list}\\n\")  # List of stations "
   ]
  },
  {
   "cell_type": "code",
   "execution_count": 6,
   "metadata": {},
   "outputs": [],
   "source": [
    "# Design a query to retrieve the last 12 months of precipitation data and plot the results\n",
    "# Calculate the date 1 year ago from the last data point in the database\n",
    "# Perform a query to retrieve the data and precipitation scores\n",
    "# Save the query results as a Pandas DataFrame and set the index to the date column\n",
    "# Sort the dataframe by date\n",
    "# Use Pandas Plotting with Matplotlib to plot the data"
   ]
  },
  {
   "cell_type": "code",
   "execution_count": 7,
   "metadata": {},
   "outputs": [
    {
     "name": "stdout",
     "output_type": "stream",
     "text": [
      " latest date in database is 2017-08-23 and one year prior to that its 2016-08-23\n",
      "\n"
     ]
    }
   ],
   "source": [
    "# Convert date strings to python datetime format,  apply functions to calculate dates, and convert back to strings for ORM queries\n",
    "latest_date = session.query(Measurement.date).order_by(desc(Measurement.date)).first()[0] # string format\n",
    "latest_date1 = datetime.strptime(latest_date, \"%Y-%m-%d\") #datetime format\n",
    "\n",
    "one_year_ago = latest_date1 - relativedelta(years=1) # datetime format\n",
    "one_year_ago1 = one_year_ago.strftime(\"%Y-%m-%d\") # string format\n",
    "\n",
    "print(f\" latest date in database is {latest_date} and one year prior to that its {one_year_ago1}\\n\") \n"
   ]
  },
  {
   "cell_type": "code",
   "execution_count": 8,
   "metadata": {},
   "outputs": [],
   "source": [
    "#Fetch last 12 months data and for each date average over all stations \n",
    "df = pd.read_sql(session.query(Measurement.date, func.avg(Measurement.prcp).label(\"prcp\")).group_by(Measurement.date)\\\n",
    "                 .filter(Measurement.date > one_year_ago1)\\\n",
    "                 .order_by((Measurement.date)).statement, session.bind)\n",
    "\n"
   ]
  },
  {
   "cell_type": "code",
   "execution_count": 9,
   "metadata": {},
   "outputs": [
    {
     "name": "stdout",
     "output_type": "stream",
     "text": [
      "dataframe of precipation data\n",
      "             prcp\n",
      "date            \n",
      "2016-08-24  1.55\n",
      "2016-08-25  0.08\n",
      "2016-08-26  0.02\n",
      "2016-08-27  0.06\n",
      "2016-08-28  0.52\n",
      "2016-08-29  0.24\n",
      "2016-08-30  0.01\n",
      "2016-08-31  0.64\n",
      "2016-09-01  0.01\n",
      "2016-09-02  0.05\n",
      "\n",
      " This has 365 records\n",
      "\n"
     ]
    }
   ],
   "source": [
    "#set index to date\n",
    "df.set_index('date', drop=True, inplace=True)\n",
    "# rounding of floats\n",
    "df.prcp = round(df.prcp,2)\n",
    "print(f\"dataframe of precipation data\\n {df.head(10)}\\n\")\n",
    "print(f\" This has {df.shape[0]} records\\n\")\n"
   ]
  },
  {
   "cell_type": "code",
   "execution_count": 10,
   "metadata": {},
   "outputs": [
    {
     "data": {
      "image/png": "[encoded data removed]",
      "text/plain": [
       "<Figure size 1080x720 with 1 Axes>"
      ]
     },
     "metadata": {
      "needs_background": "light"
     },
     "output_type": "display_data"
    }
   ],
   "source": [
    "# plot precipation data for last 12 months\n",
    "fig, ax = plt.subplots(figsize = (15,10))\n",
    "ax.bar(df.index, df.prcp, label = 'Average Precipitation across weather stations', width=3.0, align = 'edge')\n",
    "ax.set_title(\"Honululu Precipation\", fontsize = 20)\n",
    "ax.set_xlabel(\"Date\", fontsize = 16)\n",
    "ax.set_ylabel(\"Precipation Level\", fontsize = 16)\n",
    "ax.legend()\n",
    "date_list = df.index.tolist()\n",
    "# use x-ticks for only 1st date of every month\n",
    "xticks_list = list(set([item for item in date_list if item.split(\"-\",2)[-1] == '01']))\n",
    "ax.set_xticks(xticks_list)\n",
    "for tick in ax.get_xticklabels():\n",
    "    tick.set_rotation(45)\n",
    "\n",
    "for tick in ax.xaxis.get_major_ticks():\n",
    "    tick.label.set_fontsize(14)\n",
    "\n",
    "for tick in ax.yaxis.get_major_ticks():\n",
    "    tick.label.set_fontsize(14)\n",
    "    \n",
    "style.use('fivethirtyeight')\n",
    "fig.tight_layout(pad=1)\n",
    "fig.savefig(\"average_precipation.png\")\n",
    "plt.show()\n"
   ]
  },
  {
   "cell_type": "code",
   "execution_count": 11,
   "metadata": {},
   "outputs": [
    {
     "name": "stdout",
     "output_type": "stream",
     "text": [
      "dataframe of precipation data (max across stations)\n",
      "             prcp\n",
      "date            \n",
      "2016-08-24  2.28\n",
      "2016-08-25  0.21\n",
      "2016-08-26  0.04\n",
      "2016-08-27  0.18\n",
      "2016-08-28  2.07\n",
      "2016-08-29  0.90\n",
      "2016-08-30  0.05\n",
      "2016-08-31  2.46\n",
      "2016-09-01  0.02\n",
      "2016-09-02  0.19\n",
      "\n",
      " This has 365 records\n",
      "\n"
     ]
    }
   ],
   "source": [
    "#Fetch last 12 months data and for each date maximum across all stations \n",
    "df_max = pd.read_sql(session.query(Measurement.date, func.max(Measurement.prcp).label(\"prcp\")).group_by(Measurement.date)\\\n",
    "                 .filter(Measurement.date > one_year_ago1)\\\n",
    "                 .order_by((Measurement.date)).statement, session.bind)\n",
    "#set index to date\n",
    "df_max.set_index('date', drop=True, inplace=True)\n",
    "# rounding of floats\n",
    "df_max.prcp = round(df_max.prcp,2)\n",
    "print(f\"dataframe of precipation data (max across stations)\\n {df_max.head(10)}\\n\")\n",
    "print(f\" This has {df_max.shape[0]} records\\n\")"
   ]
  },
  {
   "cell_type": "code",
   "execution_count": 12,
   "metadata": {},
   "outputs": [
    {
     "data": {
      "image/png": "[encoded data removed]",
      "text/plain": [
       "<Figure size 1080x720 with 1 Axes>"
      ]
     },
     "metadata": {},
     "output_type": "display_data"
    }
   ],
   "source": [
    "# plot precipation data for last 12 months\n",
    "fig0, ax0 = plt.subplots(figsize = (15,10))\n",
    "ax0.bar(df_max.index, df_max.prcp, label = 'Maximum Precipitation across weather stations', width=3.0, align = 'edge')\n",
    "ax0.set_title(\"Honululu Precipation\", fontsize = 20)\n",
    "ax0.set_xlabel(\"Date\", fontsize = 16)\n",
    "ax0.set_ylabel(\"Precipation Level\", fontsize = 16)\n",
    "ax0.legend()\n",
    "date_list = df_max.index.tolist()\n",
    "# use x-ticks for only 1st date of every month\n",
    "xticks_list = list(set([item for item in date_list if item.split(\"-\",2)[-1] == '01']))\n",
    "ax0.set_xticks(xticks_list)\n",
    "for tick in ax0.get_xticklabels():\n",
    "    tick.set_rotation(45)\n",
    "\n",
    "for tick in ax0.xaxis.get_major_ticks():\n",
    "    tick.label.set_fontsize(14)\n",
    "\n",
    "for tick in ax0.yaxis.get_major_ticks():\n",
    "    tick.label.set_fontsize(14)\n",
    "    \n",
    "style.use('fivethirtyeight')\n",
    "fig.tight_layout(pad=1)\n",
    "fig.savefig(\"max_precipation.png\")\n",
    "plt.show()\n"
   ]
  },
  {
   "cell_type": "code",
   "execution_count": null,
   "metadata": {},
   "outputs": [],
   "source": []
  },
  {
   "cell_type": "code",
   "execution_count": 13,
   "metadata": {},
   "outputs": [
    {
     "name": "stdout",
     "output_type": "stream",
     "text": [
      "\n",
      " pandas summary statistics for the precipitation data\n",
      "\n",
      "             prcp\n",
      "count  365.000000\n",
      "mean     0.170164\n",
      "std      0.295888\n",
      "min      0.000000\n",
      "25%      0.010000\n",
      "50%      0.070000\n",
      "75%      0.190000\n",
      "max      2.380000\n",
      "\n"
     ]
    }
   ],
   "source": [
    "print(f\"\\n pandas summary statistics for the precipitation data\\n\")\n",
    "print(f\"{df.describe()}\\n\")"
   ]
  },
  {
   "cell_type": "code",
   "execution_count": 14,
   "metadata": {},
   "outputs": [
    {
     "name": "stdout",
     "output_type": "stream",
     "text": [
      " There are total 9 weather monitoring stations in Hawaii\n"
     ]
    }
   ],
   "source": [
    "# Design a query to show how many stations are available in this dataset?\n",
    "station_count = session.query(Measurement.station).distinct().count()\n",
    "print(f\" There are total {station_count} weather monitoring stations in Hawaii\")"
   ]
  },
  {
   "cell_type": "code",
   "execution_count": 15,
   "metadata": {},
   "outputs": [
    {
     "name": "stdout",
     "output_type": "stream",
     "text": [
      "USC00519281 has maximum observations\n",
      "\n",
      "             observations\n",
      "station                  \n",
      "USC00519281          2772\n",
      "USC00513117          2696\n",
      "USC00519397          2685\n",
      "USC00519523          2572\n",
      "USC00516128          2484\n",
      "USC00514830          1937\n",
      "USC00511918          1932\n",
      "USC00517948           683\n",
      "USC00518838           342\n",
      "\n",
      "list of monitoring stations and count of their observations\n",
      "\n"
     ]
    }
   ],
   "source": [
    "# What are the most active stations? (i.e. what stations have the most rows)?\n",
    "# List the stations and the counts in descending order.\n",
    "stations = session.query(Measurement.station, func.count(Measurement.prcp).label(\"observations\")).group_by(Measurement.station).order_by(desc(func.count(Measurement.prcp)))\n",
    "df_observations = pd.read_sql(stations.statement, session.bind)# for station in stations:\n",
    "df_observations.set_index('station', drop=True, inplace = True)\n",
    "\n",
    "print (f\"{df_observations.index.tolist()[0]} has maximum observations\\n\" )\n",
    "print(df_observations)\n",
    "print(f\"\\nlist of monitoring stations and count of their observations\\n\")"
   ]
  },
  {
   "cell_type": "code",
   "execution_count": 16,
   "metadata": {},
   "outputs": [
    {
     "name": "stdout",
     "output_type": "stream",
     "text": [
      " Min, Avg and Max temperature for all stations\n",
      "\n",
      "       station  highest_temp  lowest_temp  average_temp\n",
      "0  USC00519281          85.0         54.0     71.663781\n",
      "1  USC00513117          85.0         59.0     72.689184\n",
      "2  USC00519397          87.0         56.0     74.553231\n",
      "3  USC00519523          85.0         56.0     74.543649\n",
      "4  USC00516128          84.0         58.0     70.915008\n",
      "5  USC00514830          85.0         58.0     74.873297\n",
      "6  USC00511918          87.0         53.0     71.615968\n",
      "7  USC00517948          87.0         58.0     74.684402\n",
      "8  USC00518838          83.0         58.0     72.724070\n"
     ]
    }
   ],
   "source": [
    "# Using the station id from the previous query, calculate the lowest temperature recorded, \n",
    "# highest temperature recorded, and average temperature most active station?\n",
    "station_list = [s for s in df_observations.index.tolist()]\n",
    "\n",
    "#creating dict structure to hold results of queries\n",
    "result_dict = {'station':[], 'highest_temp':[], 'lowest_temp':[], 'average_temp':[]}\n",
    "\n",
    "# iterating through list of stations and collecting min,max and avg temperature for all stations\n",
    "for station in station_list:\n",
    "\n",
    "    lowest_temp = session.query(func.min(Measurement.tobs)).filter(Measurement.station == station).first()\n",
    "    highest_temp = session.query(func.max(Measurement.tobs)).filter(Measurement.station == station).first()\n",
    "    average_temp = session.query(func.avg(Measurement.tobs)).filter(Measurement.station == station).first()\n",
    "    \n",
    "    result_dict['station'].append(station)\n",
    "    result_dict['highest_temp'].append(highest_temp[0])\n",
    "    result_dict['lowest_temp'].append(lowest_temp[0])\n",
    "    result_dict['average_temp'].append(average_temp[0])\n",
    "    \n",
    "df_temp = pd.DataFrame(result_dict)\n",
    "print(f\" Min, Avg and Max temperature for all stations\\n\")\n",
    "print(df_temp)"
   ]
  },
  {
   "cell_type": "code",
   "execution_count": 17,
   "metadata": {},
   "outputs": [
    {
     "name": "stdout",
     "output_type": "stream",
     "text": [
      "Station USC00519281 has highest number of temperature observations (total 2772)\n",
      "\n",
      "Displaying first 5 records of dataframe having 12 months period temperature observations for station USC00518838\n",
      "\n",
      "         Date  Temp\n",
      "0  2016-08-24  77.0\n",
      "1  2016-08-25  80.0\n",
      "2  2016-08-26  80.0\n",
      "3  2016-08-27  75.0\n",
      "4  2016-08-28  73.0\n"
     ]
    }
   ],
   "source": [
    "# Choose the station with the highest number of temperature observations.\n",
    "\n",
    "station_name, observations = session.query(Measurement.station, func.count(Measurement.tobs))\\\n",
    "                                .group_by(Measurement.station).order_by(desc(func.count(Measurement.tobs))).first()\n",
    "\n",
    "print(f\"Station {station_name} has highest number of temperature observations (total {observations})\")\n",
    "\n",
    "# Query the last 12 months of temperature observation data for this station and plot the results as a histogram\n",
    "temp_data_query = session.query(Measurement.date.label('Date'),Measurement.tobs.label('Temp'))\\\n",
    "                    .filter(Measurement.station == station_name ).filter(Measurement.date >one_year_ago1)\n",
    "\n",
    "df_temp_obs = pd.read_sql(temp_data_query.statement, session.bind)\n",
    "\n",
    "print(f\"\\nDisplaying first 5 records of dataframe having 12 months period temperature observations for station {station}\\n\")\n",
    "print(df_temp_obs.head())"
   ]
  },
  {
   "cell_type": "code",
   "execution_count": 18,
   "metadata": {},
   "outputs": [
    {
     "data": {
      "image/png": "[encoded data removed]",
      "text/plain": [
       "<Figure size 576x432 with 1 Axes>"
      ]
     },
     "metadata": {},
     "output_type": "display_data"
    }
   ],
   "source": [
    "# plot the histogram of this station data\n",
    "fig1, ax1 = plt.subplots(figsize = (8,6))\n",
    "x = df_temp_obs.Temp.tolist()\n",
    "ax1.hist(x, bins = 12, label = 'tobs')\n",
    "ax1.set_title(f\"Histogram of Temperature at {station_name}\")\n",
    "ax1.set_xlabel('Temperature')\n",
    "ax1.set_ylabel('Frequency')\n",
    "ax1.legend()\n",
    "fig1.savefig(f\"Histogram of Temperature at {station_name}.png\")\n",
    "plt.show()"
   ]
  },
  {
   "cell_type": "code",
   "execution_count": 19,
   "metadata": {},
   "outputs": [],
   "source": [
    "# function to check if a straing is valid date in YYYY-MM-DD format\n",
    "\n",
    "def validate(date_string):\n",
    "    try:\n",
    "        x = datetime.strptime(date_string, '%Y-%m-%d')\n",
    "        return (True)\n",
    "    except ValueError:\n",
    "        return (False)"
   ]
  },
  {
   "cell_type": "code",
   "execution_count": 20,
   "metadata": {},
   "outputs": [
    {
     "name": "stdout",
     "output_type": "stream",
     "text": [
      "Please enter your planned trip start and trip end datesin format YYYY-MM-DD\n",
      "Trip Start Date (YYYY-MM-DD):2019-05-07\n",
      "Trip End Date (YYYY-MM-DD):2019-05-21\n"
     ]
    }
   ],
   "source": [
    "# Input trip plan dates as strings\n",
    "print(f\"Please enter your planned trip start and trip end datesin format YYYY-MM-DD\")\n",
    "\n",
    "correct = False\n",
    "while not correct:\n",
    "    trip_start_str = input(f\"Trip Start Date (YYYY-MM-DD):\") #'2019-06-15'\n",
    "    trip_end_str = input(f\"Trip End Date (YYYY-MM-DD):\") #'2019-06-15'\n",
    "    if validate(trip_start_str) and validate(trip_end_str) and trip_start_str <= trip_end_str : \n",
    "        correct = True\n",
    "    else:\n",
    "        print(\"Error..Check following \\n \\\n",
    "        (1) format YYYY-MM-DD, (2) Valid date, (3) trip end date equals or after trip start date\")"
   ]
  },
  {
   "cell_type": "code",
   "execution_count": 21,
   "metadata": {},
   "outputs": [],
   "source": [
    "# Below function takes start and end trip dates as string arguments, use datetime module for old dates calculation\n",
    "# Finds and prints latest year for which records are available (as 2018 records are not available in database) \n",
    "# Returns min, avg and max temps\n",
    "\n",
    "def calc_temps(trip_start, trip_end):\n",
    "# converting planned trip dates to datetime format\n",
    "    trip_start_dt = datetime.strptime(trip_start_str, \"%Y-%m-%d\")\n",
    "    trip_end_dt = datetime.strptime(trip_end_str, \"%Y-%m-%d\")\n",
    "\n",
    "\n",
    "    # Calculating corresponding dates in previous year using datetime relativedelta function\n",
    "    previous_start_dt = trip_start_dt - relativedelta(years=1)\n",
    "    previous_end_dt = trip_end_dt - relativedelta(years=1)\n",
    "\n",
    "    # Converting previous year dates from datetime format to string format\n",
    "    previous_start = previous_start_dt.strftime(\"%Y-%m-%d\")\n",
    "    previous_end = previous_end_dt.strftime(\"%Y-%m-%d\")\n",
    "\n",
    "\n",
    "    #checking which year data we should use corresponding to trip plan dates (2018 data is not available yet, and 2017 is incomplete.\n",
    "    year=1 # setting year delta to previous year of planned trip  to start with\n",
    "\n",
    "    # checking if records exists in database one year prior to planned trip\n",
    "    record_found = False\n",
    "    while (not record_found):\n",
    "        get_record = session.query(Measurement.tobs).filter(Measurement.date == previous_end).all()\n",
    "        if len(get_record) == 0: # session query results in a list of zero length if record not found in database\n",
    "            year += 1            # now check for year before\n",
    "            previous_end_dt = trip_end_dt - relativedelta(years=year)\n",
    "            previous_end = previous_end_dt.strftime(\"%Y-%m-%d\")\n",
    "        else:\n",
    "            break  # found records with delta of variable 'year'\n",
    "\n",
    "    #use 'year' delta as calculated above to find out previous dates in database\n",
    "    previous_start_dt = trip_start_dt - relativedelta(years=year)\n",
    "    previous_end_dt = trip_end_dt - relativedelta(years=year)\n",
    "\n",
    "    # convert to string format\n",
    "    previous_start = previous_start_dt.strftime(\"%Y-%m-%d\")\n",
    "    previous_end = previous_end_dt.strftime(\"%Y-%m-%d\")\n",
    "    print (f\"Records available for these dates in year (start year - end year) {previous_start.split('-')[0], previous_end.split('-')[0]}\\n\")\n",
    "    \n",
    "    # collect the statistics from database query for dates during previous_start to previous_end\n",
    "    temp_stats= session.query(func.min(Measurement.tobs), func.avg(Measurement.tobs), func.max(Measurement.tobs)).\\\n",
    "        filter(Measurement.date >= previous_start).filter(Measurement.date <= previous_end).all()\n",
    "    \n",
    "    return (temp_stats, previous_start, previous_end) # returns tuple from datbase query, and start/end dates as used from database"
   ]
  },
  {
   "cell_type": "code",
   "execution_count": 22,
   "metadata": {},
   "outputs": [
    {
     "name": "stdout",
     "output_type": "stream",
     "text": [
      "Records available for these dates in year (start year - end year) ('2017', '2017')\n",
      "\n",
      "Minimum, Average and Maximum temperature recorded were [(66.0, 74.65853658536585, 80.0)], during 2017-05-07 to 2017-05-21\n",
      "\n"
     ]
    }
   ],
   "source": [
    "(previous_result, previous_start, previous_end) = calc_temps(trip_start_str, trip_end_str)\n",
    "print (f\"Minimum, Average and Maximum temperature recorded were {previous_result}, during {previous_start} to {previous_end}\\n\")\n"
   ]
  },
  {
   "cell_type": "code",
   "execution_count": 23,
   "metadata": {},
   "outputs": [
    {
     "name": "stdout",
     "output_type": "stream",
     "text": [
      "plotting the forecasted Trip Average Temperature\n",
      "Records available for these dates in year (start year - end year) ('2017', '2017')\n",
      "\n"
     ]
    },
    {
     "data": {
      "image/png": "[encoded data removed]",
      "text/plain": [
       "<Figure size 288x576 with 1 Axes>"
      ]
     },
     "metadata": {},
     "output_type": "display_data"
    }
   ],
   "source": [
    "# Plot the results from  previous query as a bar chart. \n",
    "# Use \"Trip Avg Temp\" as  Title\n",
    "# Use the average temperature for the y value\n",
    "# Use the peak-to-peak (tmax-tmin) value as the y error bar (yerr)\n",
    "\n",
    "print(f\"plotting the forecasted Trip Average Temperature\")\n",
    "\n",
    "fig2, ax2 = plt.subplots(figsize = (4,8))\n",
    "(min, avg, max) = calc_temps(trip_start_str, trip_end_str)[0][0]\n",
    "ax2.bar(x = '_', height =avg, yerr = max-min)\n",
    "ax2.set_title(\"Trip Avg Temp\")\n",
    "ax2.set_ylabel(\"Temperature(F)\")\n",
    "ax2.set_xticks(\" \") # not showing the the xtick \n",
    "fig2.savefig(\"average_temperature_forecast.png\")\n",
    "plt.show()"
   ]
  },
  {
   "cell_type": "code",
   "execution_count": 24,
   "metadata": {},
   "outputs": [
    {
     "name": "stdout",
     "output_type": "stream",
     "text": [
      "printing total rainfall per weather station in descending order\n",
      "\n",
      "('USC00513117', 2.34, 'KANEOHE 838.1, HI US', 21.4234, -157.8015, 14.6)\n",
      "('USC00514830', 1.7, 'KUALOA RANCH HEADQUARTERS 886.9, HI US', 21.5213, -157.8374, 7.0)\n",
      "('USC00516128', 4.52, 'MANOA LYON ARBO 785.2, HI US', 21.3331, -157.8025, 152.4)\n",
      "('USC00519281', 3.3199999999999994, 'WAIHEE 837.5, HI US', 21.45167, -157.84888999999998, 32.9)\n",
      "('USC00519397', 0.08, 'WAIKIKI 717.2, HI US', 21.2716, -157.8168, 3.0)\n",
      "('USC00519523', 1.26, 'WAIMANALO EXPERIMENTAL FARM, HI US', 21.33556, -157.71139, 19.5)\n"
     ]
    }
   ],
   "source": [
    "# Calculate the total amount of rainfall per weather station for trip dates using the previous year's matching dates.\n",
    "# Sort this in descending order by precipitation amount and list the station, name, latitude, longitude, and elevation\n",
    "# query = session.query(Measurement.station, func.sum(Measurement.prcp), Station.name).\\\n",
    "#          join(Station, Station.station == Measurement.station).\\\n",
    "#          filter(Measurement.date >= previous_start).filter(Measurement.date <= previous_end).all()\n",
    "\n",
    "query = session.query(Measurement.station, func.sum(Measurement.prcp).label(\"precipitation\"), Station.name, Station.latitude, Station.longitude, Station.elevation).\\\n",
    "                        group_by(Measurement.station).\\\n",
    "                        join(Station, Measurement.station == Station.station).\\\n",
    "                        filter(Measurement.date >= previous_start).filter(Measurement.date <= previous_end)\n",
    "print(f\"printing total rainfall per weather station in descending order\\n\")\n",
    "for row in query:\n",
    "    print(row)"
   ]
  },
  {
   "cell_type": "code",
   "execution_count": 25,
   "metadata": {},
   "outputs": [
    {
     "name": "stdout",
     "output_type": "stream",
     "text": [
      " \n",
      " displaying as dataframe as well\n",
      "\n"
     ]
    },
    {
     "data": {
      "text/html": [
       "<div>\n",
       "<style scoped>\n",
       "    .dataframe tbody tr th:only-of-type {\n",
       "        vertical-align: middle;\n",
       "    }\n",
       "\n",
       "    .dataframe tbody tr th {\n",
       "        vertical-align: top;\n",
       "    }\n",
       "\n",
       "    .dataframe thead th {\n",
       "        text-align: right;\n",
       "    }\n",
       "</style>\n",
       "<table border=\"1\" class=\"dataframe\">\n",
       "  <thead>\n",
       "    <tr style=\"text-align: right;\">\n",
       "      <th></th>\n",
       "      <th>station</th>\n",
       "      <th>precipitation</th>\n",
       "      <th>name</th>\n",
       "      <th>latitude</th>\n",
       "      <th>longitude</th>\n",
       "      <th>elevation</th>\n",
       "    </tr>\n",
       "  </thead>\n",
       "  <tbody>\n",
       "    <tr>\n",
       "      <th>0</th>\n",
       "      <td>USC00513117</td>\n",
       "      <td>2.34</td>\n",
       "      <td>KANEOHE 838.1, HI US</td>\n",
       "      <td>21.42340</td>\n",
       "      <td>-157.80150</td>\n",
       "      <td>14.6</td>\n",
       "    </tr>\n",
       "    <tr>\n",
       "      <th>1</th>\n",
       "      <td>USC00514830</td>\n",
       "      <td>1.70</td>\n",
       "      <td>KUALOA RANCH HEADQUARTERS 886.9, HI US</td>\n",
       "      <td>21.52130</td>\n",
       "      <td>-157.83740</td>\n",
       "      <td>7.0</td>\n",
       "    </tr>\n",
       "    <tr>\n",
       "      <th>2</th>\n",
       "      <td>USC00516128</td>\n",
       "      <td>4.52</td>\n",
       "      <td>MANOA LYON ARBO 785.2, HI US</td>\n",
       "      <td>21.33310</td>\n",
       "      <td>-157.80250</td>\n",
       "      <td>152.4</td>\n",
       "    </tr>\n",
       "    <tr>\n",
       "      <th>3</th>\n",
       "      <td>USC00519281</td>\n",
       "      <td>3.32</td>\n",
       "      <td>WAIHEE 837.5, HI US</td>\n",
       "      <td>21.45167</td>\n",
       "      <td>-157.84889</td>\n",
       "      <td>32.9</td>\n",
       "    </tr>\n",
       "    <tr>\n",
       "      <th>4</th>\n",
       "      <td>USC00519397</td>\n",
       "      <td>0.08</td>\n",
       "      <td>WAIKIKI 717.2, HI US</td>\n",
       "      <td>21.27160</td>\n",
       "      <td>-157.81680</td>\n",
       "      <td>3.0</td>\n",
       "    </tr>\n",
       "    <tr>\n",
       "      <th>5</th>\n",
       "      <td>USC00519523</td>\n",
       "      <td>1.26</td>\n",
       "      <td>WAIMANALO EXPERIMENTAL FARM, HI US</td>\n",
       "      <td>21.33556</td>\n",
       "      <td>-157.71139</td>\n",
       "      <td>19.5</td>\n",
       "    </tr>\n",
       "  </tbody>\n",
       "</table>\n",
       "</div>"
      ],
      "text/plain": [
       "       station  precipitation                                    name  \\\n",
       "0  USC00513117           2.34                    KANEOHE 838.1, HI US   \n",
       "1  USC00514830           1.70  KUALOA RANCH HEADQUARTERS 886.9, HI US   \n",
       "2  USC00516128           4.52            MANOA LYON ARBO 785.2, HI US   \n",
       "3  USC00519281           3.32                     WAIHEE 837.5, HI US   \n",
       "4  USC00519397           0.08                    WAIKIKI 717.2, HI US   \n",
       "5  USC00519523           1.26      WAIMANALO EXPERIMENTAL FARM, HI US   \n",
       "\n",
       "   latitude  longitude  elevation  \n",
       "0  21.42340 -157.80150       14.6  \n",
       "1  21.52130 -157.83740        7.0  \n",
       "2  21.33310 -157.80250      152.4  \n",
       "3  21.45167 -157.84889       32.9  \n",
       "4  21.27160 -157.81680        3.0  \n",
       "5  21.33556 -157.71139       19.5  "
      ]
     },
     "execution_count": 25,
     "metadata": {},
     "output_type": "execute_result"
    }
   ],
   "source": [
    "#displaying as dataframe\n",
    "print(f\" \\n displaying as dataframe as well\\n\")\n",
    "df_prcp = pd.read_sql(query.statement, session.bind)\n",
    "df_prcp"
   ]
  },
  {
   "cell_type": "code",
   "execution_count": 26,
   "metadata": {},
   "outputs": [
    {
     "name": "stdout",
     "output_type": "stream",
     "text": [
      "daily normals are [(62.0, 69.15384615384616, 77.0)]\n",
      "\n"
     ]
    }
   ],
   "source": [
    "#OPTIONAL\n",
    "# Create a query that will calculate the daily normals \n",
    "# (i.e. the averages for tmin, tmax, and tavg for all historic data matching a specific month and day)\n",
    "\n",
    "def daily_normals(date):\n",
    "    \"\"\"Daily Normals.\n",
    "    \n",
    "    Args:\n",
    "        date (str): A date string in the format '%m-%d'\n",
    "        \n",
    "    Returns:\n",
    "        A list of tuples containing the daily normals, tmin, tavg, and tmax\n",
    "    \n",
    "    \"\"\"\n",
    "    \n",
    "    sel = [func.min(Measurement.tobs), func.avg(Measurement.tobs), func.max(Measurement.tobs)]\n",
    "    return session.query(*sel).filter(func.strftime(\"%m-%d\", Measurement.date) == date).all()\n",
    "\n",
    "# daily_normals for (\"01-01\")\n",
    "print(f\"daily normals are {daily_normals('01-01')}\\n\")"
   ]
  },
  {
   "cell_type": "code",
   "execution_count": 27,
   "metadata": {},
   "outputs": [],
   "source": [
    "# calculate the daily normals for your trip\n",
    "# set start and end date of the trip\n",
    "# Use the start and end date to create a range of dates\n",
    "# Stip off the year and save a list of %m-%d strings\n",
    "# Loop through the list of %m-%d strings and calculate the normals for each date\n",
    "# Load the previous query results into a Pandas DataFrame and add the `trip_dates` range as the `date` index"
   ]
  },
  {
   "cell_type": "code",
   "execution_count": 28,
   "metadata": {},
   "outputs": [
    {
     "name": "stdout",
     "output_type": "stream",
     "text": [
      " Just as a reference, your planned trip dates are from 2019-05-07 to 2019-05-21\n"
     ]
    }
   ],
   "source": [
    "# check trip start date and trip end date \n",
    "print (f\" Just as a reference, your planned trip dates are from {trip_start_str} to {trip_end_str}\")"
   ]
  },
  {
   "cell_type": "code",
   "execution_count": 29,
   "metadata": {},
   "outputs": [],
   "source": [
    "# converting to datetime format \n",
    "trip_start_dt = datetime.strptime(trip_start_str, \"%Y-%m-%d\")\n",
    "trip_end_dt = datetime.strptime(trip_end_str, \"%Y-%m-%d\")\n",
    "\n",
    "# creating a list containing all of the dates from trip start date and trip end date\n",
    "# list in datetime format\n",
    "trip_dates_dt = [trip_start_dt + timedelta(days=x) for x in range((trip_end_dt-trip_start_dt).days + 1)]\n",
    "\n",
    "#list in string format\n",
    "trip_dates_str = [date.strftime(\"%Y-%m-%d\") for date in trip_dates_dt]\n",
    "# alternatively code below:\n",
    "# trip_dates_str =[(str(trip_start_dt + timedelta(days=x))).split(\" \",1)[0] for x in range((trip_end_dt-trip_start_dt).days + 1)]\n",
    "\n",
    "# list in string format after stripping off year\n",
    "trip_dates_str_md = [date.strftime(\"%m-%d\") for date in trip_dates_dt]\n",
    "\n",
    "#creating dictionary structure for storing results\n",
    "results = {'date': trip_dates_str, 'Tmin': [], 'Tavg': [], 'Tmax': []}\n"
   ]
  },
  {
   "cell_type": "code",
   "execution_count": 30,
   "metadata": {},
   "outputs": [
    {
     "name": "stdout",
     "output_type": "stream",
     "text": [
      " printing daily normals for the planned trip duration \n",
      "\n"
     ]
    },
    {
     "data": {
      "text/html": [
       "<div>\n",
       "<style scoped>\n",
       "    .dataframe tbody tr th:only-of-type {\n",
       "        vertical-align: middle;\n",
       "    }\n",
       "\n",
       "    .dataframe tbody tr th {\n",
       "        vertical-align: top;\n",
       "    }\n",
       "\n",
       "    .dataframe thead th {\n",
       "        text-align: right;\n",
       "    }\n",
       "</style>\n",
       "<table border=\"1\" class=\"dataframe\">\n",
       "  <thead>\n",
       "    <tr style=\"text-align: right;\">\n",
       "      <th></th>\n",
       "      <th>Tmin</th>\n",
       "      <th>Tavg</th>\n",
       "      <th>Tmax</th>\n",
       "    </tr>\n",
       "    <tr>\n",
       "      <th>date</th>\n",
       "      <th></th>\n",
       "      <th></th>\n",
       "      <th></th>\n",
       "    </tr>\n",
       "  </thead>\n",
       "  <tbody>\n",
       "    <tr>\n",
       "      <th>2019-05-07</th>\n",
       "      <td>64.0</td>\n",
       "      <td>71.788462</td>\n",
       "      <td>79.0</td>\n",
       "    </tr>\n",
       "    <tr>\n",
       "      <th>2019-05-08</th>\n",
       "      <td>65.0</td>\n",
       "      <td>72.188679</td>\n",
       "      <td>80.0</td>\n",
       "    </tr>\n",
       "    <tr>\n",
       "      <th>2019-05-09</th>\n",
       "      <td>67.0</td>\n",
       "      <td>72.932203</td>\n",
       "      <td>79.0</td>\n",
       "    </tr>\n",
       "    <tr>\n",
       "      <th>2019-05-10</th>\n",
       "      <td>64.0</td>\n",
       "      <td>73.315789</td>\n",
       "      <td>78.0</td>\n",
       "    </tr>\n",
       "    <tr>\n",
       "      <th>2019-05-11</th>\n",
       "      <td>65.0</td>\n",
       "      <td>73.611111</td>\n",
       "      <td>79.0</td>\n",
       "    </tr>\n",
       "  </tbody>\n",
       "</table>\n",
       "</div>"
      ],
      "text/plain": [
       "            Tmin       Tavg  Tmax\n",
       "date                             \n",
       "2019-05-07  64.0  71.788462  79.0\n",
       "2019-05-08  65.0  72.188679  80.0\n",
       "2019-05-09  67.0  72.932203  79.0\n",
       "2019-05-10  64.0  73.315789  78.0\n",
       "2019-05-11  65.0  73.611111  79.0"
      ]
     },
     "execution_count": 30,
     "metadata": {},
     "output_type": "execute_result"
    }
   ],
   "source": [
    "# updating dictionary by iterating through trip dates and using function 'daily_normals'\n",
    "for date in trip_dates_str_md:\n",
    "        \n",
    "    results['Tmin'].append (daily_normals(date)[0][0])\n",
    "    results['Tavg'].append (daily_normals(date)[0][1])\n",
    "    results['Tmax'].append (daily_normals(date)[0][2])\n",
    "\n",
    "#converting dictionary to dataframe\n",
    "dfx = pd.DataFrame(results)\n",
    "dfx.set_index('date', drop = True, inplace = True)\n",
    "print (f\" printing daily normals for the planned trip duration \\n\")\n",
    "dfx.head()\n"
   ]
  },
  {
   "cell_type": "code",
   "execution_count": 31,
   "metadata": {},
   "outputs": [
    {
     "name": "stdout",
     "output_type": "stream",
     "text": [
      "printing an area plot of daily normals for planned trip duration \n",
      "\n"
     ]
    },
    {
     "data": {
      "image/png": "[encoded data removed]",
      "text/plain": [
       "<Figure size 432x288 with 1 Axes>"
      ]
     },
     "metadata": {},
     "output_type": "display_data"
    }
   ],
   "source": [
    "print (f\"printing an area plot of daily normals for planned trip duration \\n\")\n",
    "# plot above results\n",
    "x= dfx.index.tolist()\n",
    "xticks_list = [x[i] for i in range(0, len(x), 2)]\n",
    "\n",
    "title = f\"projected normals during your trip\"\n",
    "\n",
    "ax3 =dfx.plot(kind = 'area', stacked= False, title = title, fontsize = 10)\n",
    "ax3.set_xticklabels(xticks_list, rotation = 45)\n",
    "ax3.set_ylabel(\"Temperature(F)\")\n",
    "plt.savefig(f\"{title}.png\")\n",
    "plt.show()"
   ]
  },
  {
   "cell_type": "code",
   "execution_count": null,
   "metadata": {},
   "outputs": [],
   "source": []
  }
 ],
 "metadata": {
  "kernelspec": {
   "display_name": "Python 3",
   "language": "python",
   "name": "python3"
  },
  "language_info": {
   "codemirror_mode": {
    "name": "ipython",
    "version": 3
   },
   "file_extension": ".py",
   "mimetype": "text/x-python",
   "name": "python",
   "nbconvert_exporter": "python",
   "pygments_lexer": "ipython3",
   "version": "3.7.1"
  }
 },
 "nbformat": 4,
 "nbformat_minor": 2
}
